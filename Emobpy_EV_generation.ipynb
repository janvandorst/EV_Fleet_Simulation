{
 "cells": [
  {
   "cell_type": "code",
   "execution_count": 1,
   "id": "cbca4a5a",
   "metadata": {
    "colab": {
     "base_uri": "https://localhost:8080/",
     "height": 390
    },
    "id": "cbca4a5a",
    "outputId": "aa165ce2-b42b-4a8e-e8c4-48039abc89e2"
   },
   "outputs": [],
   "source": [
    "# Initialize seed: The created seed can be saved and loaded in again to continue working on the generated profile. This way the \n",
    "# profile does not change each time the simulation is performed again. \n",
    "\n",
    "#from emobpy.tools import set_seed\n",
    "#set_seed(dir=r'C:\\Users\\janva\\Emobpy\\example\\config_files/')\n",
    "\n",
    "#Import packages \n",
    "from emobpy import Mobility\n",
    "from emobpy.constants import RULE; RULE\n",
    "from emobpy import DataBase\n",
    "from emobpy import Consumption, HeatInsulation, BEVspecs\n",
    "from emobpy import Availability\n",
    "from emobpy import Charging\n",
    "from emobpy import Export\n",
    "import os"
   ]
  },
  {
   "cell_type": "code",
   "execution_count": 2,
   "id": "ef4d6f84",
   "metadata": {
    "id": "ef4d6f84"
   },
   "outputs": [],
   "source": [
    "# Set simulation parameters for the loop \n",
    "\n",
    "activity = 'inactive'                                                             #Activity types = working/inactive\n",
    "EVs = 2                                                                           #Number of profiles that need to be generated in the loop\n",
    "EV_type = 'RZ'                                                                    #Renault Zoe (RZ), Tesla model 3 (T3), Tesla model S (TS), Hyundai Kona (HK)\n",
    "\n",
    "folder = 1                                                                        #First folder that is generated. Usefull when you already have 10 profiles generated \n",
    "                                                                                  #but you want to add more, change the folder to 11 to start from there\n",
    "\n",
    "# The data of each EV that is generated will be stored in a seperate folder (RZ, T3, T3 or HK in this case). In this folder\n",
    "# different sub folders will be created with the activity type (working/inactive) followed by the number of the iteration. "
   ]
  },
  {
   "cell_type": "code",
   "execution_count": 4,
   "id": "cca00277",
   "metadata": {
    "id": "cca00277",
    "outputId": "bea6c82c-412d-411b-84be-5e939e6882c1",
    "scrolled": true
   },
   "outputs": [
    {
     "name": "stdout",
     "output_type": "stream",
     "text": [
      "New profile running: BEV1_W2_4bb05\n",
      "Progress: 0% [0 / 7] days"
     ]
    },
    {
     "name": "stderr",
     "output_type": "stream",
     "text": [
      "C:\\Users\\janva\\anaconda3\\envs\\emob\\lib\\site-packages\\emobpy\\mobility.py:644: FutureWarning: In a future version, `df.iloc[:, i] = newvals` will attempt to set the values inplace instead of always setting a new array. To retain the old behavior, use either `df[df.columns[i]] = newvals` or, if columns are non-unique, `df.isetitem(i, newvals)`\n",
      "  npdf2.loc[:, \"days\"] = npdf2[\"days\"].apply(self.uniquedays.index)\n",
      "C:\\Users\\janva\\anaconda3\\envs\\emob\\lib\\site-packages\\emobpy\\mobility.py:645: FutureWarning: In a future version, `df.iloc[:, i] = newvals` will attempt to set the values inplace instead of always setting a new array. To retain the old behavior, use either `df[df.columns[i]] = newvals` or, if columns are non-unique, `df.isetitem(i, newvals)`\n",
      "  npdf2.loc[:, \"purpose\"] = npdf2[\"purpose\"].apply(self.states.index)\n"
     ]
    },
    {
     "name": "stdout",
     "output_type": "stream",
     "text": [
      "Progress: 57% [4 / 7] days"
     ]
    },
    {
     "name": "stderr",
     "output_type": "stream",
     "text": [
      "C:\\Users\\janva\\anaconda3\\envs\\emob\\lib\\site-packages\\emobpy\\mobility.py:1187: FutureWarning: The frame.append method is deprecated and will be removed from pandas in a future version. Use pandas.concat instead.\n",
      "  self.logdf = self.logdf.append(\n",
      "C:\\Users\\janva\\anaconda3\\envs\\emob\\lib\\site-packages\\emobpy\\mobility.py:1187: FutureWarning: The frame.append method is deprecated and will be removed from pandas in a future version. Use pandas.concat instead.\n",
      "  self.logdf = self.logdf.append(\n",
      "C:\\Users\\janva\\anaconda3\\envs\\emob\\lib\\site-packages\\emobpy\\mobility.py:1187: FutureWarning: The frame.append method is deprecated and will be removed from pandas in a future version. Use pandas.concat instead.\n",
      "  self.logdf = self.logdf.append(\n",
      "C:\\Users\\janva\\anaconda3\\envs\\emob\\lib\\site-packages\\emobpy\\mobility.py:1187: FutureWarning: The frame.append method is deprecated and will be removed from pandas in a future version. Use pandas.concat instead.\n",
      "  self.logdf = self.logdf.append(\n",
      "C:\\Users\\janva\\anaconda3\\envs\\emob\\lib\\site-packages\\emobpy\\mobility.py:1187: FutureWarning: The frame.append method is deprecated and will be removed from pandas in a future version. Use pandas.concat instead.\n",
      "  self.logdf = self.logdf.append(\n"
     ]
    },
    {
     "name": "stdout",
     "output_type": "stream",
     "text": [
      "Progress: 100% [7 / 7] days\n",
      "Profile done: BEV1_W2_4bb05\n",
      "Elapsed time (min): 0.2\n",
      " \n"
     ]
    },
    {
     "name": "stderr",
     "output_type": "stream",
     "text": [
      "C:\\Users\\janva\\anaconda3\\envs\\emob\\lib\\site-packages\\emobpy\\mobility.py:1187: FutureWarning: The frame.append method is deprecated and will be removed from pandas in a future version. Use pandas.concat instead.\n",
      "  self.logdf = self.logdf.append(\n",
      "C:\\Users\\janva\\anaconda3\\envs\\emob\\lib\\site-packages\\emobpy\\mobility.py:1187: FutureWarning: The frame.append method is deprecated and will be removed from pandas in a future version. Use pandas.concat instead.\n",
      "  self.logdf = self.logdf.append(\n",
      "C:\\Users\\janva\\anaconda3\\envs\\emob\\lib\\site-packages\\emobpy\\mobility.py:944: FutureWarning: In a future version, `df.iloc[:, i] = newvals` will attempt to set the values inplace instead of always setting a new array. To retain the old behavior, use either `df[df.columns[i]] = newvals` or, if columns are non-unique, `df.isetitem(i, newvals)`\n",
      "  self.rp.loc[:, self.repeats] = self.rp[self.repeats].fillna(method=\"ffill\")\n",
      "C:\\Users\\janva\\anaconda3\\envs\\emob\\lib\\site-packages\\emobpy\\mobility.py:950: FutureWarning: In a future version, `df.iloc[:, i] = newvals` will attempt to set the values inplace instead of always setting a new array. To retain the old behavior, use either `df[df.columns[i]] = newvals` or, if columns are non-unique, `df.isetitem(i, newvals)`\n",
      "  self.timeseries.loc[:, cal] = self.timeseries[\"hh\"].apply(lambda x: x % 24)\n"
     ]
    },
    {
     "name": "stdout",
     "output_type": "stream",
     "text": [
      "See Log files\n",
      "C:\\Users\\janva\\Emobpy\\notebook\\log\\emobpy.log\n",
      "Fallback value 0.9 added for missing battery_charging_eff parameter.\n",
      "Fallback value 0.95 added for missing battery_discharging_eff parameter.\n",
      "Fallback value 0.95 added for missing transmission_eff parameter.\n",
      "Fallback value 0.3 added for missing auxiliary_power parameter.\n",
      "Fallback value 3.5 added for missing cabin_volume parameter.\n",
      "Fallback value 1 added for missing hvac_cop_heating parameter.\n",
      "Fallback value 2 added for missing hvac_cop_cooling parameter.\n",
      "New profile running: BEV1_W2_4bb05_Renault_Zoe_Q90_2019_f9b96\n"
     ]
    },
    {
     "name": "stderr",
     "output_type": "stream",
     "text": [
      "C:\\Users\\janva\\anaconda3\\envs\\emob\\lib\\site-packages\\emobpy\\consumption.py:1550: FutureWarning: In a future version, `df.iloc[:, i] = newvals` will attempt to set the values inplace instead of always setting a new array. To retain the old behavior, use either `df[df.columns[i]] = newvals` or, if columns are non-unique, `df.isetitem(i, newvals)`\n",
      "  self.profile.loc[:, \"datetime\"] = pd.to_datetime(self.refdate) + (\n"
     ]
    },
    {
     "name": "stdout",
     "output_type": "stream",
     "text": [
      "temp Kelvin NL 2016 Timezone: Europe/Amsterdam\n",
      "pressure Pascal NL 2016 Timezone: Europe/Amsterdam\n",
      "dew_point Kelvin NL 2016 Timezone: Europe/Amsterdam\n",
      "Progress: 100% [18 / 18] trips\n"
     ]
    },
    {
     "name": "stderr",
     "output_type": "stream",
     "text": [
      "C:\\Users\\janva\\anaconda3\\envs\\emob\\lib\\site-packages\\emobpy\\consumption.py:1959: FutureWarning: In a future version, `df.iloc[:, i] = newvals` will attempt to set the values inplace instead of always setting a new array. To retain the old behavior, use either `df[df.columns[i]] = newvals` or, if columns are non-unique, `df.isetitem(i, newvals)`\n",
      "  rp.loc[:, repeats] = rp[repeats].fillna(method=\"ffill\")\n",
      "C:\\Users\\janva\\anaconda3\\envs\\emob\\lib\\site-packages\\emobpy\\consumption.py:1960: FutureWarning: In a future version, `df.iloc[:, i] = newvals` will attempt to set the values inplace instead of always setting a new array. To retain the old behavior, use either `df[df.columns[i]] = newvals` or, if columns are non-unique, `df.isetitem(i, newvals)`\n",
      "  rp.loc[:, fixed] = rp[fixed].fillna(0)\n",
      "C:\\Users\\janva\\anaconda3\\envs\\emob\\lib\\site-packages\\emobpy\\consumption.py:1971: FutureWarning: In a future version, `df.iloc[:, i] = newvals` will attempt to set the values inplace instead of always setting a new array. To retain the old behavior, use either `df[df.columns[i]] = newvals` or, if columns are non-unique, `df.isetitem(i, newvals)`\n",
      "  self.timeseries.loc[:, \"instant consumption in W\"] = 0\n",
      "C:\\Users\\janva\\anaconda3\\envs\\emob\\lib\\site-packages\\emobpy\\consumption.py:1972: FutureWarning: In a future version, `df.iloc[:, i] = newvals` will attempt to set the values inplace instead of always setting a new array. To retain the old behavior, use either `df[df.columns[i]] = newvals` or, if columns are non-unique, `df.isetitem(i, newvals)`\n",
      "  self.timeseries.loc[:, \"average power in W\"] = 0\n"
     ]
    },
    {
     "name": "stdout",
     "output_type": "stream",
     "text": [
      " \n",
      "See Log files\n",
      "C:\\Users\\janva\\Emobpy\\notebook\\log\\emobpy.log\n"
     ]
    },
    {
     "name": "stderr",
     "output_type": "stream",
     "text": [
      "C:\\Users\\janva\\anaconda3\\envs\\emob\\lib\\site-packages\\emobpy\\availability.py:458: FutureWarning: In a future version, `df.iloc[:, i] = newvals` will attempt to set the values inplace instead of always setting a new array. To retain the old behavior, use either `df[df.columns[i]] = newvals` or, if columns are non-unique, `df.isetitem(i, newvals)`\n",
      "  self.rp.loc[:, self.repeats] = self.rp[self.repeats].fillna(method=\"ffill\")\n",
      "C:\\Users\\janva\\anaconda3\\envs\\emob\\lib\\site-packages\\emobpy\\availability.py:459: FutureWarning: In a future version, `df.iloc[:, i] = newvals` will attempt to set the values inplace instead of always setting a new array. To retain the old behavior, use either `df[df.columns[i]] = newvals` or, if columns are non-unique, `df.isetitem(i, newvals)`\n",
      "  self.rp.loc[:, self.fixed] = self.rp[self.fixed].fillna(0)\n",
      "C:\\Users\\janva\\anaconda3\\envs\\emob\\lib\\site-packages\\emobpy\\availability.py:464: FutureWarning: In a future version, `df.iloc[:, i] = newvals` will attempt to set the values inplace instead of always setting a new array. To retain the old behavior, use either `df[df.columns[i]] = newvals` or, if columns are non-unique, `df.isetitem(i, newvals)`\n",
      "  self.dt.loc[:, cal] = self.dt[\"hh\"].apply(lambda x: x % 24)\n"
     ]
    },
    {
     "name": "stdout",
     "output_type": "stream",
     "text": [
      "soc_init:0.5 --> soc_end:1.0\n",
      "Profile done: BEV1_W2_4bb05_Renault_Zoe_Q90_2019_f9b96_avai_73007\n",
      " \n",
      "See Log files\n",
      "C:\\Users\\janva\\Emobpy\\notebook\\log\\emobpy.log\n",
      "Balance: -0.01. Consumption: 29.55. charge_battery: 52.35. sto_init: 22.8. sto_end: 45.61\n",
      "Profile done: BEV1_W2_4bb05_Renault_Zoe_Q90_2019_f9b96_avai_73007_immediate_4ea77\n",
      "Creation Successful:True\n",
      "Balance: -0.01. Consumption: 29.55. charge_battery: 52.35. sto_init: 22.8. sto_end: 45.61\n",
      "Profile done: BEV1_W2_4bb05_Renault_Zoe_Q90_2019_f9b96_avai_73007_balanced_13f77\n",
      "Creation Successful:True\n",
      "Balance: -0.01. Consumption: 29.55. charge_battery: 52.35. sto_init: 22.8. sto_end: 45.61\n",
      "Profile done: BEV1_W2_4bb05_Renault_Zoe_Q90_2019_f9b96_avai_73007_from_0_to_24_at_home_965af\n",
      "Creation Successful:True\n",
      "Balance: -0.01. Consumption: 29.55. charge_battery: 52.35. sto_init: 22.8. sto_end: 45.61\n",
      "Profile done: BEV1_W2_4bb05_Renault_Zoe_Q90_2019_f9b96_avai_73007_from_23_to_8_at_any_5ccef\n",
      "Creation Successful:True\n",
      "1\n",
      "Summary file: C:\\Users\\janva\\Emobpy\\example\\db\\test\\RZ\\inactive1\\bev_data_input.csv\n",
      "Time series file: C:\\Users\\janva\\Emobpy\\example\\db\\test\\RZ\\inactive1\\bev_time_series.csv\n"
     ]
    },
    {
     "name": "stderr",
     "output_type": "stream",
     "text": [
      "C:\\Users\\janva\\anaconda3\\envs\\emob\\lib\\site-packages\\emobpy\\export.py:76: FutureWarning: In a future version, `df.iloc[:, i] = newvals` will attempt to set the values inplace instead of always setting a new array. To retain the old behavior, use either `df[df.columns[i]] = newvals` or, if columns are non-unique, `df.isetitem(i, newvals)`\n",
      "  df.loc[:, \"hh\"] = df[\"hh\"].astype(int)\n",
      "C:\\Users\\janva\\anaconda3\\envs\\emob\\lib\\site-packages\\emobpy\\export.py:76: FutureWarning: In a future version, `df.iloc[:, i] = newvals` will attempt to set the values inplace instead of always setting a new array. To retain the old behavior, use either `df[df.columns[i]] = newvals` or, if columns are non-unique, `df.isetitem(i, newvals)`\n",
      "  df.loc[:, \"hh\"] = df[\"hh\"].astype(int)\n",
      "C:\\Users\\janva\\anaconda3\\envs\\emob\\lib\\site-packages\\emobpy\\export.py:148: FutureWarning: In a future version, `df.iloc[:, i] = newvals` will attempt to set the values inplace instead of always setting a new array. To retain the old behavior, use either `df[df.columns[i]] = newvals` or, if columns are non-unique, `df.isetitem(i, newvals)`\n",
      "  df.loc[:, \"hh\"] = df[\"hh\"].astype(int)\n",
      "C:\\Users\\janva\\anaconda3\\envs\\emob\\lib\\site-packages\\emobpy\\export.py:149: FutureWarning: In a future version, `df.iloc[:, i] = newvals` will attempt to set the values inplace instead of always setting a new array. To retain the old behavior, use either `df[df.columns[i]] = newvals` or, if columns are non-unique, `df.isetitem(i, newvals)`\n",
      "  df.loc[:, 'charge_battery'] = df[\"charge_battery\"].astype(float)\n",
      "C:\\Users\\janva\\anaconda3\\envs\\emob\\lib\\site-packages\\emobpy\\export.py:148: FutureWarning: In a future version, `df.iloc[:, i] = newvals` will attempt to set the values inplace instead of always setting a new array. To retain the old behavior, use either `df[df.columns[i]] = newvals` or, if columns are non-unique, `df.isetitem(i, newvals)`\n",
      "  df.loc[:, \"hh\"] = df[\"hh\"].astype(int)\n",
      "C:\\Users\\janva\\anaconda3\\envs\\emob\\lib\\site-packages\\emobpy\\export.py:149: FutureWarning: In a future version, `df.iloc[:, i] = newvals` will attempt to set the values inplace instead of always setting a new array. To retain the old behavior, use either `df[df.columns[i]] = newvals` or, if columns are non-unique, `df.isetitem(i, newvals)`\n",
      "  df.loc[:, 'charge_battery'] = df[\"charge_battery\"].astype(float)\n",
      "C:\\Users\\janva\\anaconda3\\envs\\emob\\lib\\site-packages\\emobpy\\export.py:148: FutureWarning: In a future version, `df.iloc[:, i] = newvals` will attempt to set the values inplace instead of always setting a new array. To retain the old behavior, use either `df[df.columns[i]] = newvals` or, if columns are non-unique, `df.isetitem(i, newvals)`\n",
      "  df.loc[:, \"hh\"] = df[\"hh\"].astype(int)\n",
      "C:\\Users\\janva\\anaconda3\\envs\\emob\\lib\\site-packages\\emobpy\\export.py:149: FutureWarning: In a future version, `df.iloc[:, i] = newvals` will attempt to set the values inplace instead of always setting a new array. To retain the old behavior, use either `df[df.columns[i]] = newvals` or, if columns are non-unique, `df.isetitem(i, newvals)`\n",
      "  df.loc[:, 'charge_battery'] = df[\"charge_battery\"].astype(float)\n",
      "C:\\Users\\janva\\anaconda3\\envs\\emob\\lib\\site-packages\\emobpy\\export.py:148: FutureWarning: In a future version, `df.iloc[:, i] = newvals` will attempt to set the values inplace instead of always setting a new array. To retain the old behavior, use either `df[df.columns[i]] = newvals` or, if columns are non-unique, `df.isetitem(i, newvals)`\n",
      "  df.loc[:, \"hh\"] = df[\"hh\"].astype(int)\n",
      "C:\\Users\\janva\\anaconda3\\envs\\emob\\lib\\site-packages\\emobpy\\export.py:149: FutureWarning: In a future version, `df.iloc[:, i] = newvals` will attempt to set the values inplace instead of always setting a new array. To retain the old behavior, use either `df[df.columns[i]] = newvals` or, if columns are non-unique, `df.isetitem(i, newvals)`\n",
      "  df.loc[:, 'charge_battery'] = df[\"charge_battery\"].astype(float)\n",
      "C:\\Users\\janva\\anaconda3\\envs\\emob\\lib\\site-packages\\emobpy\\export.py:148: FutureWarning: In a future version, `df.iloc[:, i] = newvals` will attempt to set the values inplace instead of always setting a new array. To retain the old behavior, use either `df[df.columns[i]] = newvals` or, if columns are non-unique, `df.isetitem(i, newvals)`\n",
      "  df.loc[:, \"hh\"] = df[\"hh\"].astype(int)\n",
      "C:\\Users\\janva\\anaconda3\\envs\\emob\\lib\\site-packages\\emobpy\\export.py:149: FutureWarning: In a future version, `df.iloc[:, i] = newvals` will attempt to set the values inplace instead of always setting a new array. To retain the old behavior, use either `df[df.columns[i]] = newvals` or, if columns are non-unique, `df.isetitem(i, newvals)`\n",
      "  df.loc[:, 'charge_battery'] = df[\"charge_battery\"].astype(float)\n",
      "C:\\Users\\janva\\anaconda3\\envs\\emob\\lib\\site-packages\\emobpy\\export.py:148: FutureWarning: In a future version, `df.iloc[:, i] = newvals` will attempt to set the values inplace instead of always setting a new array. To retain the old behavior, use either `df[df.columns[i]] = newvals` or, if columns are non-unique, `df.isetitem(i, newvals)`\n",
      "  df.loc[:, \"hh\"] = df[\"hh\"].astype(int)\n",
      "C:\\Users\\janva\\anaconda3\\envs\\emob\\lib\\site-packages\\emobpy\\export.py:149: FutureWarning: In a future version, `df.iloc[:, i] = newvals` will attempt to set the values inplace instead of always setting a new array. To retain the old behavior, use either `df[df.columns[i]] = newvals` or, if columns are non-unique, `df.isetitem(i, newvals)`\n",
      "  df.loc[:, 'charge_battery'] = df[\"charge_battery\"].astype(float)\n",
      "C:\\Users\\janva\\anaconda3\\envs\\emob\\lib\\site-packages\\emobpy\\export.py:148: FutureWarning: In a future version, `df.iloc[:, i] = newvals` will attempt to set the values inplace instead of always setting a new array. To retain the old behavior, use either `df[df.columns[i]] = newvals` or, if columns are non-unique, `df.isetitem(i, newvals)`\n",
      "  df.loc[:, \"hh\"] = df[\"hh\"].astype(int)\n",
      "C:\\Users\\janva\\anaconda3\\envs\\emob\\lib\\site-packages\\emobpy\\export.py:149: FutureWarning: In a future version, `df.iloc[:, i] = newvals` will attempt to set the values inplace instead of always setting a new array. To retain the old behavior, use either `df[df.columns[i]] = newvals` or, if columns are non-unique, `df.isetitem(i, newvals)`\n",
      "  df.loc[:, 'charge_battery'] = df[\"charge_battery\"].astype(float)\n",
      "C:\\Users\\janva\\anaconda3\\envs\\emob\\lib\\site-packages\\emobpy\\export.py:148: FutureWarning: In a future version, `df.iloc[:, i] = newvals` will attempt to set the values inplace instead of always setting a new array. To retain the old behavior, use either `df[df.columns[i]] = newvals` or, if columns are non-unique, `df.isetitem(i, newvals)`\n",
      "  df.loc[:, \"hh\"] = df[\"hh\"].astype(int)\n",
      "C:\\Users\\janva\\anaconda3\\envs\\emob\\lib\\site-packages\\emobpy\\export.py:149: FutureWarning: In a future version, `df.iloc[:, i] = newvals` will attempt to set the values inplace instead of always setting a new array. To retain the old behavior, use either `df[df.columns[i]] = newvals` or, if columns are non-unique, `df.isetitem(i, newvals)`\n",
      "  df.loc[:, 'charge_battery'] = df[\"charge_battery\"].astype(float)\n"
     ]
    },
    {
     "name": "stdout",
     "output_type": "stream",
     "text": [
      "New profile running: BEV1_W2_99e3e\n",
      "Progress: 14% [1 / 7] days"
     ]
    },
    {
     "name": "stderr",
     "output_type": "stream",
     "text": [
      "C:\\Users\\janva\\anaconda3\\envs\\emob\\lib\\site-packages\\emobpy\\mobility.py:644: FutureWarning: In a future version, `df.iloc[:, i] = newvals` will attempt to set the values inplace instead of always setting a new array. To retain the old behavior, use either `df[df.columns[i]] = newvals` or, if columns are non-unique, `df.isetitem(i, newvals)`\n",
      "  npdf2.loc[:, \"days\"] = npdf2[\"days\"].apply(self.uniquedays.index)\n",
      "C:\\Users\\janva\\anaconda3\\envs\\emob\\lib\\site-packages\\emobpy\\mobility.py:645: FutureWarning: In a future version, `df.iloc[:, i] = newvals` will attempt to set the values inplace instead of always setting a new array. To retain the old behavior, use either `df[df.columns[i]] = newvals` or, if columns are non-unique, `df.isetitem(i, newvals)`\n",
      "  npdf2.loc[:, \"purpose\"] = npdf2[\"purpose\"].apply(self.states.index)\n",
      "C:\\Users\\janva\\anaconda3\\envs\\emob\\lib\\site-packages\\emobpy\\mobility.py:1187: FutureWarning: The frame.append method is deprecated and will be removed from pandas in a future version. Use pandas.concat instead.\n",
      "  self.logdf = self.logdf.append(\n"
     ]
    },
    {
     "name": "stdout",
     "output_type": "stream",
     "text": [
      "Progress: 100% [7 / 7] days"
     ]
    },
    {
     "name": "stderr",
     "output_type": "stream",
     "text": [
      "C:\\Users\\janva\\anaconda3\\envs\\emob\\lib\\site-packages\\emobpy\\mobility.py:1187: FutureWarning: The frame.append method is deprecated and will be removed from pandas in a future version. Use pandas.concat instead.\n",
      "  self.logdf = self.logdf.append(\n"
     ]
    },
    {
     "name": "stdout",
     "output_type": "stream",
     "text": [
      "\n",
      "Profile done: BEV1_W2_99e3e\n",
      "Elapsed time (min): 0.01\n",
      " \n",
      "See Log files\n",
      "C:\\Users\\janva\\Emobpy\\notebook\\log\\emobpy.log\n"
     ]
    },
    {
     "name": "stderr",
     "output_type": "stream",
     "text": [
      "C:\\Users\\janva\\anaconda3\\envs\\emob\\lib\\site-packages\\emobpy\\mobility.py:944: FutureWarning: In a future version, `df.iloc[:, i] = newvals` will attempt to set the values inplace instead of always setting a new array. To retain the old behavior, use either `df[df.columns[i]] = newvals` or, if columns are non-unique, `df.isetitem(i, newvals)`\n",
      "  self.rp.loc[:, self.repeats] = self.rp[self.repeats].fillna(method=\"ffill\")\n",
      "C:\\Users\\janva\\anaconda3\\envs\\emob\\lib\\site-packages\\emobpy\\mobility.py:950: FutureWarning: In a future version, `df.iloc[:, i] = newvals` will attempt to set the values inplace instead of always setting a new array. To retain the old behavior, use either `df[df.columns[i]] = newvals` or, if columns are non-unique, `df.isetitem(i, newvals)`\n",
      "  self.timeseries.loc[:, cal] = self.timeseries[\"hh\"].apply(lambda x: x % 24)\n"
     ]
    },
    {
     "name": "stdout",
     "output_type": "stream",
     "text": [
      "Fallback value 0.9 added for missing battery_charging_eff parameter.\n",
      "Fallback value 0.95 added for missing battery_discharging_eff parameter.\n",
      "Fallback value 0.95 added for missing transmission_eff parameter.\n",
      "Fallback value 0.3 added for missing auxiliary_power parameter.\n",
      "Fallback value 3.5 added for missing cabin_volume parameter.\n",
      "Fallback value 1 added for missing hvac_cop_heating parameter.\n",
      "Fallback value 2 added for missing hvac_cop_cooling parameter.\n",
      "New profile running: BEV1_W2_99e3e_Renault_Zoe_Q90_2019_b75e3\n"
     ]
    },
    {
     "name": "stderr",
     "output_type": "stream",
     "text": [
      "C:\\Users\\janva\\anaconda3\\envs\\emob\\lib\\site-packages\\emobpy\\consumption.py:1550: FutureWarning: In a future version, `df.iloc[:, i] = newvals` will attempt to set the values inplace instead of always setting a new array. To retain the old behavior, use either `df[df.columns[i]] = newvals` or, if columns are non-unique, `df.isetitem(i, newvals)`\n",
      "  self.profile.loc[:, \"datetime\"] = pd.to_datetime(self.refdate) + (\n"
     ]
    },
    {
     "name": "stdout",
     "output_type": "stream",
     "text": [
      "temp Kelvin NL 2016 Timezone: Europe/Amsterdam\n",
      "pressure Pascal NL 2016 Timezone: Europe/Amsterdam\n",
      "dew_point Kelvin NL 2016 Timezone: Europe/Amsterdam\n",
      "Progress: 100% [13 / 13] trips\n"
     ]
    },
    {
     "name": "stderr",
     "output_type": "stream",
     "text": [
      "C:\\Users\\janva\\anaconda3\\envs\\emob\\lib\\site-packages\\emobpy\\consumption.py:1959: FutureWarning: In a future version, `df.iloc[:, i] = newvals` will attempt to set the values inplace instead of always setting a new array. To retain the old behavior, use either `df[df.columns[i]] = newvals` or, if columns are non-unique, `df.isetitem(i, newvals)`\n",
      "  rp.loc[:, repeats] = rp[repeats].fillna(method=\"ffill\")\n",
      "C:\\Users\\janva\\anaconda3\\envs\\emob\\lib\\site-packages\\emobpy\\consumption.py:1960: FutureWarning: In a future version, `df.iloc[:, i] = newvals` will attempt to set the values inplace instead of always setting a new array. To retain the old behavior, use either `df[df.columns[i]] = newvals` or, if columns are non-unique, `df.isetitem(i, newvals)`\n",
      "  rp.loc[:, fixed] = rp[fixed].fillna(0)\n",
      "C:\\Users\\janva\\anaconda3\\envs\\emob\\lib\\site-packages\\emobpy\\consumption.py:1971: FutureWarning: In a future version, `df.iloc[:, i] = newvals` will attempt to set the values inplace instead of always setting a new array. To retain the old behavior, use either `df[df.columns[i]] = newvals` or, if columns are non-unique, `df.isetitem(i, newvals)`\n",
      "  self.timeseries.loc[:, \"instant consumption in W\"] = 0\n",
      "C:\\Users\\janva\\anaconda3\\envs\\emob\\lib\\site-packages\\emobpy\\consumption.py:1972: FutureWarning: In a future version, `df.iloc[:, i] = newvals` will attempt to set the values inplace instead of always setting a new array. To retain the old behavior, use either `df[df.columns[i]] = newvals` or, if columns are non-unique, `df.isetitem(i, newvals)`\n",
      "  self.timeseries.loc[:, \"average power in W\"] = 0\n"
     ]
    },
    {
     "name": "stdout",
     "output_type": "stream",
     "text": [
      " \n",
      "See Log files\n",
      "C:\\Users\\janva\\Emobpy\\notebook\\log\\emobpy.log\n",
      "soc_init:0.5 --> soc_end:1.0\n",
      "Profile done: BEV1_W2_99e3e_Renault_Zoe_Q90_2019_b75e3_avai_6ab82\n",
      " \n",
      "See Log files\n",
      "C:\\Users\\janva\\Emobpy\\notebook\\log\\emobpy.log\n"
     ]
    },
    {
     "name": "stderr",
     "output_type": "stream",
     "text": [
      "C:\\Users\\janva\\anaconda3\\envs\\emob\\lib\\site-packages\\emobpy\\availability.py:458: FutureWarning: In a future version, `df.iloc[:, i] = newvals` will attempt to set the values inplace instead of always setting a new array. To retain the old behavior, use either `df[df.columns[i]] = newvals` or, if columns are non-unique, `df.isetitem(i, newvals)`\n",
      "  self.rp.loc[:, self.repeats] = self.rp[self.repeats].fillna(method=\"ffill\")\n",
      "C:\\Users\\janva\\anaconda3\\envs\\emob\\lib\\site-packages\\emobpy\\availability.py:459: FutureWarning: In a future version, `df.iloc[:, i] = newvals` will attempt to set the values inplace instead of always setting a new array. To retain the old behavior, use either `df[df.columns[i]] = newvals` or, if columns are non-unique, `df.isetitem(i, newvals)`\n",
      "  self.rp.loc[:, self.fixed] = self.rp[self.fixed].fillna(0)\n",
      "C:\\Users\\janva\\anaconda3\\envs\\emob\\lib\\site-packages\\emobpy\\availability.py:464: FutureWarning: In a future version, `df.iloc[:, i] = newvals` will attempt to set the values inplace instead of always setting a new array. To retain the old behavior, use either `df[df.columns[i]] = newvals` or, if columns are non-unique, `df.isetitem(i, newvals)`\n",
      "  self.dt.loc[:, cal] = self.dt[\"hh\"].apply(lambda x: x % 24)\n"
     ]
    },
    {
     "name": "stdout",
     "output_type": "stream",
     "text": [
      "Balance: -0.01. Consumption: 39.01. charge_battery: 61.81. sto_init: 22.8. sto_end: 45.61\n",
      "Profile done: BEV1_W2_99e3e_Renault_Zoe_Q90_2019_b75e3_avai_6ab82_immediate_e963c\n",
      "Creation Successful:True\n",
      "Balance: -0.01. Consumption: 39.01. charge_battery: 61.81. sto_init: 22.8. sto_end: 45.61\n",
      "Profile done: BEV1_W2_99e3e_Renault_Zoe_Q90_2019_b75e3_avai_6ab82_balanced_a8bc9\n",
      "Creation Successful:True\n",
      "Balance: -0.01. Consumption: 39.01. charge_battery: 61.81. sto_init: 22.8. sto_end: 45.61\n",
      "Profile done: BEV1_W2_99e3e_Renault_Zoe_Q90_2019_b75e3_avai_6ab82_from_0_to_24_at_home_b3991\n",
      "Creation Successful:True\n",
      "Balance: -0.01. Consumption: 39.01. charge_battery: 61.81. sto_init: 22.8. sto_end: 45.61\n",
      "Profile done: BEV1_W2_99e3e_Renault_Zoe_Q90_2019_b75e3_avai_6ab82_from_23_to_8_at_any_a1810\n",
      "Creation Successful:True\n",
      "2\n",
      "Summary file: C:\\Users\\janva\\Emobpy\\example\\db\\test\\RZ\\inactive2\\bev_data_input.csv\n",
      "Time series file: C:\\Users\\janva\\Emobpy\\example\\db\\test\\RZ\\inactive2\\bev_time_series.csv\n"
     ]
    },
    {
     "name": "stderr",
     "output_type": "stream",
     "text": [
      "C:\\Users\\janva\\anaconda3\\envs\\emob\\lib\\site-packages\\emobpy\\export.py:76: FutureWarning: In a future version, `df.iloc[:, i] = newvals` will attempt to set the values inplace instead of always setting a new array. To retain the old behavior, use either `df[df.columns[i]] = newvals` or, if columns are non-unique, `df.isetitem(i, newvals)`\n",
      "  df.loc[:, \"hh\"] = df[\"hh\"].astype(int)\n",
      "C:\\Users\\janva\\anaconda3\\envs\\emob\\lib\\site-packages\\emobpy\\export.py:76: FutureWarning: In a future version, `df.iloc[:, i] = newvals` will attempt to set the values inplace instead of always setting a new array. To retain the old behavior, use either `df[df.columns[i]] = newvals` or, if columns are non-unique, `df.isetitem(i, newvals)`\n",
      "  df.loc[:, \"hh\"] = df[\"hh\"].astype(int)\n",
      "C:\\Users\\janva\\anaconda3\\envs\\emob\\lib\\site-packages\\emobpy\\export.py:148: FutureWarning: In a future version, `df.iloc[:, i] = newvals` will attempt to set the values inplace instead of always setting a new array. To retain the old behavior, use either `df[df.columns[i]] = newvals` or, if columns are non-unique, `df.isetitem(i, newvals)`\n",
      "  df.loc[:, \"hh\"] = df[\"hh\"].astype(int)\n",
      "C:\\Users\\janva\\anaconda3\\envs\\emob\\lib\\site-packages\\emobpy\\export.py:149: FutureWarning: In a future version, `df.iloc[:, i] = newvals` will attempt to set the values inplace instead of always setting a new array. To retain the old behavior, use either `df[df.columns[i]] = newvals` or, if columns are non-unique, `df.isetitem(i, newvals)`\n",
      "  df.loc[:, 'charge_battery'] = df[\"charge_battery\"].astype(float)\n",
      "C:\\Users\\janva\\anaconda3\\envs\\emob\\lib\\site-packages\\emobpy\\export.py:148: FutureWarning: In a future version, `df.iloc[:, i] = newvals` will attempt to set the values inplace instead of always setting a new array. To retain the old behavior, use either `df[df.columns[i]] = newvals` or, if columns are non-unique, `df.isetitem(i, newvals)`\n",
      "  df.loc[:, \"hh\"] = df[\"hh\"].astype(int)\n",
      "C:\\Users\\janva\\anaconda3\\envs\\emob\\lib\\site-packages\\emobpy\\export.py:149: FutureWarning: In a future version, `df.iloc[:, i] = newvals` will attempt to set the values inplace instead of always setting a new array. To retain the old behavior, use either `df[df.columns[i]] = newvals` or, if columns are non-unique, `df.isetitem(i, newvals)`\n",
      "  df.loc[:, 'charge_battery'] = df[\"charge_battery\"].astype(float)\n",
      "C:\\Users\\janva\\anaconda3\\envs\\emob\\lib\\site-packages\\emobpy\\export.py:148: FutureWarning: In a future version, `df.iloc[:, i] = newvals` will attempt to set the values inplace instead of always setting a new array. To retain the old behavior, use either `df[df.columns[i]] = newvals` or, if columns are non-unique, `df.isetitem(i, newvals)`\n",
      "  df.loc[:, \"hh\"] = df[\"hh\"].astype(int)\n",
      "C:\\Users\\janva\\anaconda3\\envs\\emob\\lib\\site-packages\\emobpy\\export.py:149: FutureWarning: In a future version, `df.iloc[:, i] = newvals` will attempt to set the values inplace instead of always setting a new array. To retain the old behavior, use either `df[df.columns[i]] = newvals` or, if columns are non-unique, `df.isetitem(i, newvals)`\n",
      "  df.loc[:, 'charge_battery'] = df[\"charge_battery\"].astype(float)\n",
      "C:\\Users\\janva\\anaconda3\\envs\\emob\\lib\\site-packages\\emobpy\\export.py:148: FutureWarning: In a future version, `df.iloc[:, i] = newvals` will attempt to set the values inplace instead of always setting a new array. To retain the old behavior, use either `df[df.columns[i]] = newvals` or, if columns are non-unique, `df.isetitem(i, newvals)`\n",
      "  df.loc[:, \"hh\"] = df[\"hh\"].astype(int)\n",
      "C:\\Users\\janva\\anaconda3\\envs\\emob\\lib\\site-packages\\emobpy\\export.py:149: FutureWarning: In a future version, `df.iloc[:, i] = newvals` will attempt to set the values inplace instead of always setting a new array. To retain the old behavior, use either `df[df.columns[i]] = newvals` or, if columns are non-unique, `df.isetitem(i, newvals)`\n",
      "  df.loc[:, 'charge_battery'] = df[\"charge_battery\"].astype(float)\n",
      "C:\\Users\\janva\\anaconda3\\envs\\emob\\lib\\site-packages\\emobpy\\export.py:148: FutureWarning: In a future version, `df.iloc[:, i] = newvals` will attempt to set the values inplace instead of always setting a new array. To retain the old behavior, use either `df[df.columns[i]] = newvals` or, if columns are non-unique, `df.isetitem(i, newvals)`\n",
      "  df.loc[:, \"hh\"] = df[\"hh\"].astype(int)\n",
      "C:\\Users\\janva\\anaconda3\\envs\\emob\\lib\\site-packages\\emobpy\\export.py:149: FutureWarning: In a future version, `df.iloc[:, i] = newvals` will attempt to set the values inplace instead of always setting a new array. To retain the old behavior, use either `df[df.columns[i]] = newvals` or, if columns are non-unique, `df.isetitem(i, newvals)`\n",
      "  df.loc[:, 'charge_battery'] = df[\"charge_battery\"].astype(float)\n",
      "C:\\Users\\janva\\anaconda3\\envs\\emob\\lib\\site-packages\\emobpy\\export.py:148: FutureWarning: In a future version, `df.iloc[:, i] = newvals` will attempt to set the values inplace instead of always setting a new array. To retain the old behavior, use either `df[df.columns[i]] = newvals` or, if columns are non-unique, `df.isetitem(i, newvals)`\n",
      "  df.loc[:, \"hh\"] = df[\"hh\"].astype(int)\n",
      "C:\\Users\\janva\\anaconda3\\envs\\emob\\lib\\site-packages\\emobpy\\export.py:149: FutureWarning: In a future version, `df.iloc[:, i] = newvals` will attempt to set the values inplace instead of always setting a new array. To retain the old behavior, use either `df[df.columns[i]] = newvals` or, if columns are non-unique, `df.isetitem(i, newvals)`\n",
      "  df.loc[:, 'charge_battery'] = df[\"charge_battery\"].astype(float)\n",
      "C:\\Users\\janva\\anaconda3\\envs\\emob\\lib\\site-packages\\emobpy\\export.py:148: FutureWarning: In a future version, `df.iloc[:, i] = newvals` will attempt to set the values inplace instead of always setting a new array. To retain the old behavior, use either `df[df.columns[i]] = newvals` or, if columns are non-unique, `df.isetitem(i, newvals)`\n",
      "  df.loc[:, \"hh\"] = df[\"hh\"].astype(int)\n",
      "C:\\Users\\janva\\anaconda3\\envs\\emob\\lib\\site-packages\\emobpy\\export.py:149: FutureWarning: In a future version, `df.iloc[:, i] = newvals` will attempt to set the values inplace instead of always setting a new array. To retain the old behavior, use either `df[df.columns[i]] = newvals` or, if columns are non-unique, `df.isetitem(i, newvals)`\n",
      "  df.loc[:, 'charge_battery'] = df[\"charge_battery\"].astype(float)\n",
      "C:\\Users\\janva\\anaconda3\\envs\\emob\\lib\\site-packages\\emobpy\\export.py:148: FutureWarning: In a future version, `df.iloc[:, i] = newvals` will attempt to set the values inplace instead of always setting a new array. To retain the old behavior, use either `df[df.columns[i]] = newvals` or, if columns are non-unique, `df.isetitem(i, newvals)`\n",
      "  df.loc[:, \"hh\"] = df[\"hh\"].astype(int)\n",
      "C:\\Users\\janva\\anaconda3\\envs\\emob\\lib\\site-packages\\emobpy\\export.py:149: FutureWarning: In a future version, `df.iloc[:, i] = newvals` will attempt to set the values inplace instead of always setting a new array. To retain the old behavior, use either `df[df.columns[i]] = newvals` or, if columns are non-unique, `df.isetitem(i, newvals)`\n",
      "  df.loc[:, 'charge_battery'] = df[\"charge_battery\"].astype(float)\n"
     ]
    }
   ],
   "source": [
    "while (folder<=EVs):\n",
    "    path = r'C:\\Users\\janva\\Emobpy\\example\\db\\test'                               #Set path for output files \n",
    "    file_path = os.path.join(path,EV_type,activity+str(folder))\n",
    "    inactive_working = os.path.join(\"DepartureDestinationTrip_\"+activity+\".csv\")\n",
    "    \n",
    "    m = Mobility(config_folder=r'C:\\Users\\janva\\Emobpy\\example\\config_files/')    #Emobpy mobility profile based on these probability distributions for trip duration, distance, destination and departure time\n",
    "\n",
    "    m.set_params(\n",
    "                 name_prefix=\"BEV1\",                  \n",
    "                 total_hours=7*24,                                                #One week for this example\n",
    "                 time_step_in_hrs=0.25,                                           #15 minute time steps\n",
    "                 category=\"user_defined\",\n",
    "                 reference_date=\"01/01/2016\"                                      #Weather data based on this date \n",
    "                 )\n",
    "\n",
    "    m.set_stats(\n",
    "                stat_ntrip_path=\"TripsPerDay.csv\",                                #Number of trips per day\n",
    "                stat_dest_path=inactive_working,                                  #Dependent on working or inactive owner \n",
    "                stat_km_duration_path=\"DistanceDurationTrip.csv\",                 #Trip distance and duration probability distribution \n",
    "                )\n",
    "\n",
    "    m.set_rules(rule_key=\"user_defined\")                                          # see /config_files/rules.yml, it contains a dictionary\n",
    "                                                                                  # whose key must be the same as rule_key. \n",
    "    m.run()\n",
    "\n",
    "\n",
    "    m.save_profile(folder=file_path)                                              # Emobpy mobility profile saved to database\n",
    "\n",
    "    #Mobility dataframes\n",
    "    mobility_TS = m.timeseries\n",
    "    mobility_profile = m.profile\n",
    "\n",
    "    #Database \n",
    "    DB = DataBase(file_path)\n",
    "    DB.loadfiles()\n",
    "    DB.db.keys()\n",
    "\n",
    "\n",
    "    ## Driving consumption time series\n",
    "    DB.update()                                                                   # This load new files hosted in database folder as result of new generated files\n",
    "    mname = m.name\n",
    "    HI = HeatInsulation(True)                                                     # Creating the heat insulation by copying the default configuration\n",
    "    BEVS = BEVspecs()                                                             # Database that contains BEV models\n",
    "\n",
    "    # Select the electric vehicle chosen in the simulation parameters from the first cell. \n",
    "    # Many other EVs are preloaded into Emobpy. \n",
    "    \n",
    "    R_Zoe = BEVS.model(('Renault','Zoe Q90',2019))\n",
    "    #Tesla_3 = BEVS.model(('Tesla','Model 3 Standard Range RWD',2019))\n",
    "    #Tesla_S = BEVS.model(('Tesla','Model S 60 RWD',2015))\n",
    "    #H_Kona = BEVS.model(('Hyundai','KONA Electric 64 kWh',2019))\n",
    "\n",
    "\n",
    "    c = Consumption(mname, R_Zoe)                                                 # Do not forget to change the name from R_Zoe to any other chosen EV\n",
    "    c.load_setting_mobility(DB)\n",
    "\n",
    "    #from emobpy import Weather                                                   # Import other weather files form different countries if desired \n",
    "    #WD = Weather()\n",
    "    #WD.download_weather_data()\n",
    "\n",
    "    c.run(\n",
    "      heat_insulation=HI,\n",
    "      weather_country='NL',                # Select weather file \n",
    "      weather_year=2016,                   # Year\n",
    "      passenger_mass=75,                   # kg\n",
    "      passenger_sensible_heat=70,          # W\n",
    "      passenger_nr=1.5,                    # Passengers per vehicle including driver\n",
    "      air_cabin_heat_transfer_coef=20,     # W/(m2K). Interior walls\n",
    "      air_flow = 0.02,                     # m3/s. Ventilation\n",
    "      driving_cycle_type='WLTC',           # Two options \"WLTC\" or \"EPA\"\n",
    "      road_type=0,                         # For rolling resistance, Zero represents a new road.\n",
    "      road_slope=0\n",
    "      )\n",
    "\n",
    "    c.save_profile(file_path)\n",
    "\n",
    "    #Create dataframes \n",
    "    consumption_TS = c.timeseries                                                 # Consumption in kWh/timestep -> timestep 15 min in this example\n",
    "    consumption_profile = c.profile.head()\n",
    "\n",
    "\n",
    "    ## Grid availability time series \n",
    "    DB.update()                                                                   # This load new generated files that are hosted in database folder\n",
    "    cname = c.name                                                                # Getting the id of the first consumption profile\n",
    "\n",
    "\n",
    "    station_distribution = {                                                      # Dictionary with charging stations type probability distribution per the purpose of the trip (location or destination)\n",
    "                            'prob_charging_point': {\n",
    "                                'errands': {'public': 0.8, 'none': 0.2},\n",
    "                                'escort': {'public': 0.8, 'none': 0.2},\n",
    "                                'leisure': {'public': 0.8, 'none': 0.2},\n",
    "                                'shopping': {'public': 0.8, 'none': 0.2},\n",
    "                                'home': {'public': 0.0, 'none': 0.2, 'home': 0.8},\n",
    "                                'workplace': {'public': 0.0, 'workplace': 0.0, 'none': 1.0},   # If the vehicle is at the workplace, it will always find a charging station available (assumption)\n",
    "                                'driving': {'none': 0.99, 'fast75': 0.005, 'fast150': 0.005}}, # with the low probability given to fast charging is to ensure fast charging only for very long trips (assumption)\n",
    "                            'capacity_charging_point': {                                       # Nominal power rating of charging station in kW\n",
    "                                                        'public': 22,\n",
    "                                                        'home': 3.7,\n",
    "                                                        'workplace': 11,\n",
    "                                                        'none': 0,  # dummy station\n",
    "                                                        'fast75': 150,\n",
    "                                                        'fast150': 150}\n",
    "                            }\n",
    "\n",
    "    ga = Availability(cname, DB)\n",
    "    ga.set_scenario(station_distribution)\n",
    "\n",
    "\n",
    "    ga.run()\n",
    "    ga.save_profile(file_path)\n",
    "\n",
    "    #Create dataframes \n",
    "    availability_TS = ga.timeseries\n",
    "    availability_profile = ga.profile\n",
    "\n",
    "\n",
    "    ## Grid electricity demand \n",
    "    DB.update()\n",
    "\n",
    "    aname = ga.name                                                               # Getting the id of the availability profile\n",
    "\n",
    "    strategies = [\n",
    "                  \"immediate\",                                                    # When battery has SOC < 100% then it charges immediatelly at a maximun power rating of the current charging station\n",
    "                  \"balanced\",                                                     # When battery has SOC < 100% then it charges immediatelly but at lower rating power to ensure 100% SOC at the end (before moving to another place).\n",
    "                  \"from_0_to_24_at_home\",                                         # Customized: starting time of charging (this case 0 hrs), final time of charging (this case 24 hrs), at could be one 'location' (this case 'home') or 'any'.\n",
    "                  \"from_23_to_8_at_any\"                                           # Night charging strategy \n",
    "                  ]\n",
    "\n",
    "    for option in strategies:\n",
    "        ged = Charging(aname)\n",
    "        ged.load_scenario(DB)\n",
    "        ged.set_sub_scenario(option)\n",
    "        ged.run()\n",
    "        print(f'Creation Successful:{ged.success}')                               # if False, modify the strategy to a less constrained.\n",
    "        ged.save_profile(file_path)\n",
    "    \n",
    "    charging_TS = ged.timeseries\n",
    "    charging_profile = ged.profile\n",
    "\n",
    "    #All data in one dataframe \n",
    "    file_path_alldata = os.path.join(path,EV_type,activity+str(folder),'All_data.csv')\n",
    "    All_data = charging_TS.join(availability_TS[[\"soc\"]])\n",
    "    All_data = All_data.join(consumption_TS[[\"average power in W\"]])\n",
    "    All_data.to_csv(file_path_alldata)\n",
    "\n",
    "    print (folder)                                                                #Print itteration of loop \n",
    "    DB.update()\n",
    "    \n",
    "    #Export the charging profile of the EV and the input data of the EV \n",
    "    Exp = Export()\n",
    "    Exp.loaddata(DB)\n",
    "    Exp.to_csv()\n",
    "    Exp.save_files(repository=file_path)\n",
    "    folder = folder+1"
   ]
  },
  {
   "cell_type": "code",
   "execution_count": null,
   "id": "f26bad2c",
   "metadata": {
    "id": "f26bad2c"
   },
   "outputs": [],
   "source": []
  }
 ],
 "metadata": {
  "colab": {
   "collapsed_sections": [],
   "provenance": []
  },
  "kernelspec": {
   "display_name": "Python 3 (ipykernel)",
   "language": "python",
   "name": "python3"
  },
  "language_info": {
   "codemirror_mode": {
    "name": "ipython",
    "version": 3
   },
   "file_extension": ".py",
   "mimetype": "text/x-python",
   "name": "python",
   "nbconvert_exporter": "python",
   "pygments_lexer": "ipython3",
   "version": "3.10.4"
  }
 },
 "nbformat": 4,
 "nbformat_minor": 5
}
